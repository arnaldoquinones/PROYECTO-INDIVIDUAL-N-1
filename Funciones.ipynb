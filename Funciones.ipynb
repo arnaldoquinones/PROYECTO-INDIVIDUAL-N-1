{
 "cells": [
  {
   "cell_type": "markdown",
   "metadata": {},
   "source": [
    "# FUNCIONES."
   ]
  },
  {
   "cell_type": "markdown",
   "metadata": {},
   "source": [
    "CONVOCO BIBLIOTECAS"
   ]
  },
  {
   "cell_type": "code",
   "execution_count": 1,
   "metadata": {},
   "outputs": [],
   "source": [
    "import pandas as pd\n",
    "from collections import defaultdict"
   ]
  },
  {
   "cell_type": "markdown",
   "metadata": {},
   "source": [
    "CARGO LOS DATAFRAMES QUE VOY A UTILIZAR"
   ]
  },
  {
   "cell_type": "code",
   "execution_count": 2,
   "metadata": {},
   "outputs": [],
   "source": [
    "df_UserItems=pd.read_csv('user_items_cleaned.csv')\n",
    "df_SteamGames=pd.read_csv('steam_games_cleaned.csv')\n",
    "df_UserReviews=pd.read_csv('user_reviews_cleaned.csv')"
   ]
  },
  {
   "cell_type": "code",
   "execution_count": 3,
   "metadata": {},
   "outputs": [
    {
     "data": {
      "text/html": [
       "<div>\n",
       "<style scoped>\n",
       "    .dataframe tbody tr th:only-of-type {\n",
       "        vertical-align: middle;\n",
       "    }\n",
       "\n",
       "    .dataframe tbody tr th {\n",
       "        vertical-align: top;\n",
       "    }\n",
       "\n",
       "    .dataframe thead th {\n",
       "        text-align: right;\n",
       "    }\n",
       "</style>\n",
       "<table border=\"1\" class=\"dataframe\">\n",
       "  <thead>\n",
       "    <tr style=\"text-align: right;\">\n",
       "      <th></th>\n",
       "      <th>name</th>\n",
       "      <th>price</th>\n",
       "      <th>item_id</th>\n",
       "      <th>developer</th>\n",
       "      <th>year</th>\n",
       "      <th>Indie</th>\n",
       "      <th>Action</th>\n",
       "      <th>Casual</th>\n",
       "      <th>Adventure</th>\n",
       "      <th>Strategy</th>\n",
       "      <th>Simulation</th>\n",
       "      <th>RPG</th>\n",
       "      <th>Free to Play</th>\n",
       "      <th>Early Access</th>\n",
       "      <th>Sports</th>\n",
       "      <th>Massively Multiplayer</th>\n",
       "      <th>Racing</th>\n",
       "      <th>Design &amp;amp; Illustration</th>\n",
       "      <th>Utilities</th>\n",
       "    </tr>\n",
       "  </thead>\n",
       "  <tbody>\n",
       "    <tr>\n",
       "      <th>0</th>\n",
       "      <td>Lost Summoner Kitty</td>\n",
       "      <td>4.99</td>\n",
       "      <td>761140</td>\n",
       "      <td>kotoshiro</td>\n",
       "      <td>2018</td>\n",
       "      <td>1.0</td>\n",
       "      <td>1.0</td>\n",
       "      <td>1.0</td>\n",
       "      <td>0.0</td>\n",
       "      <td>1.0</td>\n",
       "      <td>1.0</td>\n",
       "      <td>0.0</td>\n",
       "      <td>0.0</td>\n",
       "      <td>0.0</td>\n",
       "      <td>0.0</td>\n",
       "      <td>0.0</td>\n",
       "      <td>0.0</td>\n",
       "      <td>0.0</td>\n",
       "      <td>0.0</td>\n",
       "    </tr>\n",
       "    <tr>\n",
       "      <th>1</th>\n",
       "      <td>Ironbound</td>\n",
       "      <td>0.00</td>\n",
       "      <td>643980</td>\n",
       "      <td>secret level srl</td>\n",
       "      <td>2018</td>\n",
       "      <td>1.0</td>\n",
       "      <td>0.0</td>\n",
       "      <td>0.0</td>\n",
       "      <td>0.0</td>\n",
       "      <td>1.0</td>\n",
       "      <td>0.0</td>\n",
       "      <td>1.0</td>\n",
       "      <td>1.0</td>\n",
       "      <td>0.0</td>\n",
       "      <td>0.0</td>\n",
       "      <td>0.0</td>\n",
       "      <td>0.0</td>\n",
       "      <td>0.0</td>\n",
       "      <td>0.0</td>\n",
       "    </tr>\n",
       "    <tr>\n",
       "      <th>2</th>\n",
       "      <td>Real Pool 3D - Poolians</td>\n",
       "      <td>0.00</td>\n",
       "      <td>670290</td>\n",
       "      <td>poolians.com</td>\n",
       "      <td>2017</td>\n",
       "      <td>1.0</td>\n",
       "      <td>0.0</td>\n",
       "      <td>1.0</td>\n",
       "      <td>0.0</td>\n",
       "      <td>0.0</td>\n",
       "      <td>1.0</td>\n",
       "      <td>0.0</td>\n",
       "      <td>1.0</td>\n",
       "      <td>0.0</td>\n",
       "      <td>1.0</td>\n",
       "      <td>0.0</td>\n",
       "      <td>0.0</td>\n",
       "      <td>0.0</td>\n",
       "      <td>0.0</td>\n",
       "    </tr>\n",
       "    <tr>\n",
       "      <th>3</th>\n",
       "      <td>弹炸人2222</td>\n",
       "      <td>0.99</td>\n",
       "      <td>767400</td>\n",
       "      <td>彼岸领域</td>\n",
       "      <td>2017</td>\n",
       "      <td>0.0</td>\n",
       "      <td>1.0</td>\n",
       "      <td>1.0</td>\n",
       "      <td>1.0</td>\n",
       "      <td>0.0</td>\n",
       "      <td>0.0</td>\n",
       "      <td>0.0</td>\n",
       "      <td>0.0</td>\n",
       "      <td>0.0</td>\n",
       "      <td>0.0</td>\n",
       "      <td>0.0</td>\n",
       "      <td>0.0</td>\n",
       "      <td>0.0</td>\n",
       "      <td>0.0</td>\n",
       "    </tr>\n",
       "    <tr>\n",
       "      <th>4</th>\n",
       "      <td>Log Challenge</td>\n",
       "      <td>2.99</td>\n",
       "      <td>773570</td>\n",
       "      <td>NaN</td>\n",
       "      <td>2016</td>\n",
       "      <td>0.0</td>\n",
       "      <td>0.0</td>\n",
       "      <td>0.0</td>\n",
       "      <td>0.0</td>\n",
       "      <td>0.0</td>\n",
       "      <td>0.0</td>\n",
       "      <td>0.0</td>\n",
       "      <td>0.0</td>\n",
       "      <td>0.0</td>\n",
       "      <td>0.0</td>\n",
       "      <td>0.0</td>\n",
       "      <td>0.0</td>\n",
       "      <td>0.0</td>\n",
       "      <td>0.0</td>\n",
       "    </tr>\n",
       "  </tbody>\n",
       "</table>\n",
       "</div>"
      ],
      "text/plain": [
       "                      name  price  item_id         developer  year  Indie  \\\n",
       "0      Lost Summoner Kitty   4.99   761140         kotoshiro  2018    1.0   \n",
       "1                Ironbound   0.00   643980  secret level srl  2018    1.0   \n",
       "2  Real Pool 3D - Poolians   0.00   670290      poolians.com  2017    1.0   \n",
       "3                  弹炸人2222   0.99   767400              彼岸领域  2017    0.0   \n",
       "4            Log Challenge   2.99   773570               NaN  2016    0.0   \n",
       "\n",
       "   Action  Casual  Adventure  Strategy  Simulation  RPG  Free to Play  \\\n",
       "0     1.0     1.0        0.0       1.0         1.0  0.0           0.0   \n",
       "1     0.0     0.0        0.0       1.0         0.0  1.0           1.0   \n",
       "2     0.0     1.0        0.0       0.0         1.0  0.0           1.0   \n",
       "3     1.0     1.0        1.0       0.0         0.0  0.0           0.0   \n",
       "4     0.0     0.0        0.0       0.0         0.0  0.0           0.0   \n",
       "\n",
       "   Early Access  Sports  Massively Multiplayer  Racing  \\\n",
       "0           0.0     0.0                    0.0     0.0   \n",
       "1           0.0     0.0                    0.0     0.0   \n",
       "2           0.0     1.0                    0.0     0.0   \n",
       "3           0.0     0.0                    0.0     0.0   \n",
       "4           0.0     0.0                    0.0     0.0   \n",
       "\n",
       "   Design &amp; Illustration  Utilities  \n",
       "0                        0.0        0.0  \n",
       "1                        0.0        0.0  \n",
       "2                        0.0        0.0  \n",
       "3                        0.0        0.0  \n",
       "4                        0.0        0.0  "
      ]
     },
     "execution_count": 3,
     "metadata": {},
     "output_type": "execute_result"
    }
   ],
   "source": [
    "df_SteamGames.head()"
   ]
  },
  {
   "cell_type": "code",
   "execution_count": 4,
   "metadata": {},
   "outputs": [
    {
     "name": "stdout",
     "output_type": "stream",
     "text": [
      "<class 'pandas.core.frame.DataFrame'>\n",
      "RangeIndex: 32131 entries, 0 to 32130\n",
      "Data columns (total 19 columns):\n",
      " #   Column                     Non-Null Count  Dtype  \n",
      "---  ------                     --------------  -----  \n",
      " 0   name                       32130 non-null  object \n",
      " 1   price                      32131 non-null  float64\n",
      " 2   item_id                    32131 non-null  int64  \n",
      " 3   developer                  28899 non-null  object \n",
      " 4   year                       32131 non-null  int64  \n",
      " 5   Indie                      32131 non-null  float64\n",
      " 6   Action                     32131 non-null  float64\n",
      " 7   Casual                     32131 non-null  float64\n",
      " 8   Adventure                  32131 non-null  float64\n",
      " 9   Strategy                   32131 non-null  float64\n",
      " 10  Simulation                 32131 non-null  float64\n",
      " 11  RPG                        32131 non-null  float64\n",
      " 12  Free to Play               32131 non-null  float64\n",
      " 13  Early Access               32131 non-null  float64\n",
      " 14  Sports                     32131 non-null  float64\n",
      " 15  Massively Multiplayer      32131 non-null  float64\n",
      " 16  Racing                     32131 non-null  float64\n",
      " 17  Design &amp; Illustration  32131 non-null  float64\n",
      " 18  Utilities                  32131 non-null  float64\n",
      "dtypes: float64(15), int64(2), object(2)\n",
      "memory usage: 4.7+ MB\n"
     ]
    }
   ],
   "source": [
    "df_SteamGames.info()"
   ]
  },
  {
   "cell_type": "code",
   "execution_count": 5,
   "metadata": {},
   "outputs": [
    {
     "data": {
      "text/html": [
       "<div>\n",
       "<style scoped>\n",
       "    .dataframe tbody tr th:only-of-type {\n",
       "        vertical-align: middle;\n",
       "    }\n",
       "\n",
       "    .dataframe tbody tr th {\n",
       "        vertical-align: top;\n",
       "    }\n",
       "\n",
       "    .dataframe thead th {\n",
       "        text-align: right;\n",
       "    }\n",
       "</style>\n",
       "<table border=\"1\" class=\"dataframe\">\n",
       "  <thead>\n",
       "    <tr style=\"text-align: right;\">\n",
       "      <th></th>\n",
       "      <th>user_id</th>\n",
       "      <th>item_id</th>\n",
       "      <th>recommend</th>\n",
       "      <th>review</th>\n",
       "      <th>year</th>\n",
       "      <th>sentiment_analysis</th>\n",
       "    </tr>\n",
       "  </thead>\n",
       "  <tbody>\n",
       "    <tr>\n",
       "      <th>0</th>\n",
       "      <td>76561198040188061</td>\n",
       "      <td>10</td>\n",
       "      <td>True</td>\n",
       "      <td>this game is the 1 online action game is aweso...</td>\n",
       "      <td>2011</td>\n",
       "      <td>2</td>\n",
       "    </tr>\n",
       "    <tr>\n",
       "      <th>1</th>\n",
       "      <td>epic_doom</td>\n",
       "      <td>10</td>\n",
       "      <td>True</td>\n",
       "      <td>the og to csgo</td>\n",
       "      <td>2013</td>\n",
       "      <td>1</td>\n",
       "    </tr>\n",
       "    <tr>\n",
       "      <th>2</th>\n",
       "      <td>mayshowganmore</td>\n",
       "      <td>10</td>\n",
       "      <td>True</td>\n",
       "      <td>the best fps game</td>\n",
       "      <td>2014</td>\n",
       "      <td>2</td>\n",
       "    </tr>\n",
       "    <tr>\n",
       "      <th>3</th>\n",
       "      <td>BestinTheWorldThund3r</td>\n",
       "      <td>10</td>\n",
       "      <td>True</td>\n",
       "      <td>one of the best childhood games i have ever pl...</td>\n",
       "      <td>2014</td>\n",
       "      <td>2</td>\n",
       "    </tr>\n",
       "    <tr>\n",
       "      <th>4</th>\n",
       "      <td>76561198072207162</td>\n",
       "      <td>10</td>\n",
       "      <td>True</td>\n",
       "      <td>people still play this siq game</td>\n",
       "      <td>2014</td>\n",
       "      <td>2</td>\n",
       "    </tr>\n",
       "  </tbody>\n",
       "</table>\n",
       "</div>"
      ],
      "text/plain": [
       "                 user_id  item_id  recommend  \\\n",
       "0      76561198040188061       10       True   \n",
       "1              epic_doom       10       True   \n",
       "2         mayshowganmore       10       True   \n",
       "3  BestinTheWorldThund3r       10       True   \n",
       "4      76561198072207162       10       True   \n",
       "\n",
       "                                              review  year  sentiment_analysis  \n",
       "0  this game is the 1 online action game is aweso...  2011                   2  \n",
       "1                                     the og to csgo  2013                   1  \n",
       "2                                  the best fps game  2014                   2  \n",
       "3  one of the best childhood games i have ever pl...  2014                   2  \n",
       "4                    people still play this siq game  2014                   2  "
      ]
     },
     "execution_count": 5,
     "metadata": {},
     "output_type": "execute_result"
    }
   ],
   "source": [
    "df_UserReviews.head()"
   ]
  },
  {
   "cell_type": "code",
   "execution_count": 6,
   "metadata": {},
   "outputs": [
    {
     "data": {
      "text/html": [
       "<div>\n",
       "<style scoped>\n",
       "    .dataframe tbody tr th:only-of-type {\n",
       "        vertical-align: middle;\n",
       "    }\n",
       "\n",
       "    .dataframe tbody tr th {\n",
       "        vertical-align: top;\n",
       "    }\n",
       "\n",
       "    .dataframe thead th {\n",
       "        text-align: right;\n",
       "    }\n",
       "</style>\n",
       "<table border=\"1\" class=\"dataframe\">\n",
       "  <thead>\n",
       "    <tr style=\"text-align: right;\">\n",
       "      <th></th>\n",
       "      <th>item_id</th>\n",
       "      <th>playtime_forever</th>\n",
       "      <th>user_id</th>\n",
       "      <th>items_count</th>\n",
       "    </tr>\n",
       "  </thead>\n",
       "  <tbody>\n",
       "    <tr>\n",
       "      <th>0</th>\n",
       "      <td>10</td>\n",
       "      <td>0.10</td>\n",
       "      <td>76561197970982479</td>\n",
       "      <td>277</td>\n",
       "    </tr>\n",
       "    <tr>\n",
       "      <th>1</th>\n",
       "      <td>30</td>\n",
       "      <td>0.12</td>\n",
       "      <td>76561197970982479</td>\n",
       "      <td>277</td>\n",
       "    </tr>\n",
       "    <tr>\n",
       "      <th>2</th>\n",
       "      <td>300</td>\n",
       "      <td>78.88</td>\n",
       "      <td>76561197970982479</td>\n",
       "      <td>277</td>\n",
       "    </tr>\n",
       "    <tr>\n",
       "      <th>3</th>\n",
       "      <td>240</td>\n",
       "      <td>30.88</td>\n",
       "      <td>76561197970982479</td>\n",
       "      <td>277</td>\n",
       "    </tr>\n",
       "    <tr>\n",
       "      <th>4</th>\n",
       "      <td>3830</td>\n",
       "      <td>5.55</td>\n",
       "      <td>76561197970982479</td>\n",
       "      <td>277</td>\n",
       "    </tr>\n",
       "  </tbody>\n",
       "</table>\n",
       "</div>"
      ],
      "text/plain": [
       "   item_id  playtime_forever            user_id  items_count\n",
       "0       10              0.10  76561197970982479          277\n",
       "1       30              0.12  76561197970982479          277\n",
       "2      300             78.88  76561197970982479          277\n",
       "3      240             30.88  76561197970982479          277\n",
       "4     3830              5.55  76561197970982479          277"
      ]
     },
     "execution_count": 6,
     "metadata": {},
     "output_type": "execute_result"
    }
   ],
   "source": [
    "df_UserItems.head()"
   ]
  },
  {
   "cell_type": "markdown",
   "metadata": {},
   "source": [
    "### Función developer\n",
    "'Cantidad' de items y 'porcentaje' de contenido Free por año según empresa desarrolladora"
   ]
  },
  {
   "cell_type": "code",
   "execution_count": 7,
   "metadata": {},
   "outputs": [],
   "source": [
    "def developer(desarrollador: str):\n",
    "    desarrollador=desarrollador\n",
    "    desarrollador_lower = desarrollador.lower()\n",
    "    df = df_SteamGames.loc[df_SteamGames['developer'] == f'{desarrollador_lower}'].sort_values('year')\n",
    "    df=df.drop_duplicates()\n",
    "    yearB = 0\n",
    "    dict_años = defaultdict(list)  # Changed the dictionary value type to list\n",
    "    items = 0\n",
    "    items_free = 0\n",
    "    for index, row in df.iterrows():\n",
    "        year = row['year']\n",
    "        price = row['price']\n",
    "        if  year != yearB:\n",
    "            items = 0  # Restablece la cuenta de elementos si es un nuevo año\n",
    "            yearB = year\n",
    "            items_free=0\n",
    "              \n",
    "        if price == 0.00:\n",
    "            items_free+=1\n",
    "            dict_años[year] = [items, f'{items_free}'] \n",
    "        else:\n",
    "            items += 1\n",
    "            dict_años[year] = [items, f'{items_free}']\n",
    "    texto = ' Contenido Free (%)'\n",
    "\n",
    "    df = pd.DataFrame(dict_años.values(), dict_años.keys()).rename(columns={0: 'Cantidad de Items', 1: f'{desarrollador}{texto}'})\n",
    "    df[f'{desarrollador}{texto}'] = round((pd.to_numeric(df[f'{desarrollador}{texto}']) / df['Cantidad de Items']*100), 2)\n",
    "    return df"
   ]
  },
  {
   "cell_type": "code",
   "execution_count": 8,
   "metadata": {},
   "outputs": [
    {
     "name": "stdout",
     "output_type": "stream",
     "text": [
      "      Cantidad de Items  Id Software Contenido Free (%)\n",
      "1990                  1                             0.0\n",
      "1993                  1                             0.0\n",
      "1994                  2                             0.0\n",
      "1995                  2                             0.0\n",
      "1996                  1                             0.0\n",
      "1997                  1                             0.0\n",
      "1999                  1                             0.0\n",
      "2000                  1                             0.0\n",
      "2004                  1                             0.0\n",
      "2005                  1                             0.0\n",
      "2007                  1                             0.0\n",
      "2010                  1                             0.0\n",
      "2011                  1                             0.0\n",
      "2012                  2                             0.0\n",
      "2016                  1                             0.0\n"
     ]
    }
   ],
   "source": [
    "# Ejemplo de uso 1:\n",
    "desarrollador = 'Id Software'  \n",
    "resultado = developer(desarrollador)\n",
    "print(resultado)"
   ]
  },
  {
   "cell_type": "code",
   "execution_count": 9,
   "metadata": {},
   "outputs": [
    {
     "name": "stdout",
     "output_type": "stream",
     "text": [
      "      Cantidad de Items  Capcom Contenido Free (%)\n",
      "2008                  2                       0.00\n",
      "2009                  3                       0.00\n",
      "2011                  8                       0.00\n",
      "2013                 14                       0.00\n",
      "2014                 21                       0.00\n",
      "2015                 33                       0.00\n",
      "2016                 11                       9.09\n",
      "2017                 39                       2.56\n"
     ]
    }
   ],
   "source": [
    "# Ejemplo de uso 2:\n",
    "desarrollador = 'Capcom'  \n",
    "resultado = developer(desarrollador)\n",
    "print(resultado)"
   ]
  },
  {
   "cell_type": "markdown",
   "metadata": {},
   "source": [
    "### Función userdata\n",
    "Debe devolver 'cantidad' de dinero gastado por el usuario, el 'porcentaje' de recomendación en base a reviews.recommend y 'cantidad de items'.\n",
    "\n",
    "Disclaimer: Varias celdas de prueba aquí que no he quitado por temor a romper todo al mínimo cambio"
   ]
  },
  {
   "cell_type": "code",
   "execution_count": 10,
   "metadata": {},
   "outputs": [],
   "source": [
    "df_items_count = df_UserItems.groupby(\"user_id\")['items_count'].mean().reset_index()\n",
    "result = df_UserReviews[['user_id','recommend']]\n",
    "df_user_recommend_ratio = result.groupby('user_id')['recommend'].mean().round(2).reset_index()"
   ]
  },
  {
   "cell_type": "code",
   "execution_count": 11,
   "metadata": {},
   "outputs": [],
   "source": [
    "df_usuarios_items = df_UserItems.groupby('user_id')['item_id'].apply(list).reset_index()"
   ]
  },
  {
   "cell_type": "code",
   "execution_count": 12,
   "metadata": {},
   "outputs": [],
   "source": [
    "df_usuarios_items.to_csv('Salida/itemsforuser.csv', index=False)"
   ]
  },
  {
   "cell_type": "code",
   "execution_count": 13,
   "metadata": {},
   "outputs": [],
   "source": [
    "game_id_to_price = df_SteamGames.set_index('item_id')['price'].to_dict()\n",
    "df_usuarios_items['total_spent'] = df_usuarios_items['item_id'].apply(lambda items: sum(game_id_to_price.get(item, 0) for item in items))\n",
    "df_gasto = df_usuarios_items.drop('item_id', axis=1)"
   ]
  },
  {
   "cell_type": "code",
   "execution_count": 14,
   "metadata": {},
   "outputs": [],
   "source": [
    "lista = [df_gasto, df_user_recommend_ratio]\n",
    "temp = df_items_count\n",
    "for i in range(len(lista)):\n",
    "    df_user_data = pd.merge(temp,lista[i], on='user_id', how='outer')\n",
    "    temp = df_user_data"
   ]
  },
  {
   "cell_type": "code",
   "execution_count": 15,
   "metadata": {},
   "outputs": [
    {
     "data": {
      "text/html": [
       "<div>\n",
       "<style scoped>\n",
       "    .dataframe tbody tr th:only-of-type {\n",
       "        vertical-align: middle;\n",
       "    }\n",
       "\n",
       "    .dataframe tbody tr th {\n",
       "        vertical-align: top;\n",
       "    }\n",
       "\n",
       "    .dataframe thead th {\n",
       "        text-align: right;\n",
       "    }\n",
       "</style>\n",
       "<table border=\"1\" class=\"dataframe\">\n",
       "  <thead>\n",
       "    <tr style=\"text-align: right;\">\n",
       "      <th></th>\n",
       "      <th>user_id</th>\n",
       "      <th>items_count</th>\n",
       "      <th>total_spent</th>\n",
       "      <th>recommend_ratio</th>\n",
       "    </tr>\n",
       "  </thead>\n",
       "  <tbody>\n",
       "    <tr>\n",
       "      <th>0</th>\n",
       "      <td>--000--</td>\n",
       "      <td>58.0</td>\n",
       "      <td>187.83</td>\n",
       "      <td>NaN</td>\n",
       "    </tr>\n",
       "    <tr>\n",
       "      <th>1</th>\n",
       "      <td>--ace--</td>\n",
       "      <td>44.0</td>\n",
       "      <td>122.89</td>\n",
       "      <td>100.0</td>\n",
       "    </tr>\n",
       "    <tr>\n",
       "      <th>2</th>\n",
       "      <td>--ionex--</td>\n",
       "      <td>23.0</td>\n",
       "      <td>109.92</td>\n",
       "      <td>100.0</td>\n",
       "    </tr>\n",
       "    <tr>\n",
       "      <th>3</th>\n",
       "      <td>-2SV-vuLB-Kg</td>\n",
       "      <td>68.0</td>\n",
       "      <td>244.68</td>\n",
       "      <td>100.0</td>\n",
       "    </tr>\n",
       "    <tr>\n",
       "      <th>4</th>\n",
       "      <td>-404PageNotFound-</td>\n",
       "      <td>149.0</td>\n",
       "      <td>1159.46</td>\n",
       "      <td>NaN</td>\n",
       "    </tr>\n",
       "    <tr>\n",
       "      <th>...</th>\n",
       "      <td>...</td>\n",
       "      <td>...</td>\n",
       "      <td>...</td>\n",
       "      <td>...</td>\n",
       "    </tr>\n",
       "    <tr>\n",
       "      <th>70760</th>\n",
       "      <td>zzonci</td>\n",
       "      <td>5.0</td>\n",
       "      <td>0.00</td>\n",
       "      <td>NaN</td>\n",
       "    </tr>\n",
       "    <tr>\n",
       "      <th>70761</th>\n",
       "      <td>zzoptimuszz</td>\n",
       "      <td>61.0</td>\n",
       "      <td>4.99</td>\n",
       "      <td>100.0</td>\n",
       "    </tr>\n",
       "    <tr>\n",
       "      <th>70762</th>\n",
       "      <td>zzydrax</td>\n",
       "      <td>13.0</td>\n",
       "      <td>99.94</td>\n",
       "      <td>NaN</td>\n",
       "    </tr>\n",
       "    <tr>\n",
       "      <th>70763</th>\n",
       "      <td>zzyfo</td>\n",
       "      <td>84.0</td>\n",
       "      <td>484.73</td>\n",
       "      <td>NaN</td>\n",
       "    </tr>\n",
       "    <tr>\n",
       "      <th>70764</th>\n",
       "      <td>zzzmidmiss</td>\n",
       "      <td>69.0</td>\n",
       "      <td>338.74</td>\n",
       "      <td>NaN</td>\n",
       "    </tr>\n",
       "  </tbody>\n",
       "</table>\n",
       "<p>70765 rows × 4 columns</p>\n",
       "</div>"
      ],
      "text/plain": [
       "                 user_id  items_count  total_spent  recommend_ratio\n",
       "0                --000--         58.0       187.83              NaN\n",
       "1                --ace--         44.0       122.89            100.0\n",
       "2              --ionex--         23.0       109.92            100.0\n",
       "3           -2SV-vuLB-Kg         68.0       244.68            100.0\n",
       "4      -404PageNotFound-        149.0      1159.46              NaN\n",
       "...                  ...          ...          ...              ...\n",
       "70760             zzonci          5.0         0.00              NaN\n",
       "70761        zzoptimuszz         61.0         4.99            100.0\n",
       "70762            zzydrax         13.0        99.94              NaN\n",
       "70763              zzyfo         84.0       484.73              NaN\n",
       "70764         zzzmidmiss         69.0       338.74              NaN\n",
       "\n",
       "[70765 rows x 4 columns]"
      ]
     },
     "execution_count": 15,
     "metadata": {},
     "output_type": "execute_result"
    }
   ],
   "source": [
    "df_user_data.loc[:, 'recommend'] = df_user_data['recommend'] * 100\n",
    "df_user_data.rename(columns={'recommend': 'recommend_ratio'})"
   ]
  },
  {
   "cell_type": "code",
   "execution_count": 16,
   "metadata": {},
   "outputs": [],
   "source": [
    "df_user_data.to_csv('Salida/df_user_data.csv', index=False)"
   ]
  },
  {
   "cell_type": "code",
   "execution_count": 17,
   "metadata": {},
   "outputs": [],
   "source": [
    "def userdata(user_id:str):\n",
    "    df = df_user_data.loc[df_user_data['user_id'] == f'{user_id}']\n",
    "    #df.loc[:, 'recommend'] = df['recommend']\n",
    "    #df = df.rename(columns={'user_id': 'Usuario', 'recommend': '% de recomendación',\n",
    "    #             'items_count': 'Cantidad de items', 'total_spent':'Dinero gastado'})\n",
    "    result = {'Usuario': df[\"user_id\"].iloc[0], 'Dinero gastado': round(df[\"total_spent\"].iloc[0],2),\n",
    "              '% de recomendación': df[\"recommend\"].iloc[0], 'Cantidad de items': df[\"items_count\"].iloc[0]}\n",
    "\n",
    "    return result"
   ]
  },
  {
   "cell_type": "code",
   "execution_count": 1,
   "metadata": {},
   "outputs": [
    {
     "ename": "NameError",
     "evalue": "name 'df_user_data' is not defined",
     "output_type": "error",
     "traceback": [
      "\u001b[1;31m---------------------------------------------------------------------------\u001b[0m",
      "\u001b[1;31mNameError\u001b[0m                                 Traceback (most recent call last)",
      "Cell \u001b[1;32mIn[1], line 1\u001b[0m\n\u001b[1;32m----> 1\u001b[0m \u001b[38;5;28mprint\u001b[39m(df_user_data)\n",
      "\u001b[1;31mNameError\u001b[0m: name 'df_user_data' is not defined"
     ]
    }
   ],
   "source": [
    "print(df_user_data)\n"
   ]
  },
  {
   "cell_type": "code",
   "execution_count": 18,
   "metadata": {},
   "outputs": [
    {
     "name": "stdout",
     "output_type": "stream",
     "text": [
      "{'Usuario': '--ionex--', 'Dinero gastado': 109.92, '% de recomendación': 100.0, 'Cantidad de items': 23.0}\n"
     ]
    }
   ],
   "source": [
    "# Ejemplo de uso 1:\n",
    "ID_Usuario = '--ionex--'  \n",
    "resultado = userdata(ID_Usuario)\n",
    "print(resultado)"
   ]
  },
  {
   "cell_type": "code",
   "execution_count": 19,
   "metadata": {},
   "outputs": [
    {
     "name": "stdout",
     "output_type": "stream",
     "text": [
      "{'Usuario': 'zzoptimuszz', 'Dinero gastado': 4.99, '% de recomendación': 100.0, 'Cantidad de items': 61.0}\n"
     ]
    }
   ],
   "source": [
    "# Ejemplo de uso 2:\n",
    "ID_Usuario = 'zzoptimuszz'  \n",
    "resultado = userdata(ID_Usuario)\n",
    "print(resultado)"
   ]
  },
  {
   "cell_type": "markdown",
   "metadata": {},
   "source": [
    "### Función UserForGenre\n",
    "Devuelve el usuario que acumula más horas jugadas para el género dado y una lista de la acumulación de horas jugadas por año de lanzamiento."
   ]
  },
  {
   "cell_type": "code",
   "execution_count": 20,
   "metadata": {},
   "outputs": [],
   "source": [
    "def UserForGenre(genero:str):\n",
    "    # Se crea un nuevo DataFrame llamado df_games que contiene solo las columnas relevantes\n",
    "    game_columns = ['item_id', 'name', 'year', 'Indie', 'Action', 'Casual', 'Adventure', 'Strategy',\n",
    "                    'Simulation', 'RPG', 'Free to Play', 'Early Access', 'Sports',\n",
    "                    'Massively Multiplayer', 'Racing', 'Design &amp; Illustration', 'Utilities']\n",
    "    df_games = df_SteamGames[game_columns]\n",
    "    \n",
    "    # Se hace un join entre df_games y df_UserItems utilizando 'item_id' como clave\n",
    "    df_joined = pd.merge(df_games, df_UserItems[['item_id', 'playtime_forever','user_id']], on='item_id', how='inner')\n",
    "\n",
    "    # Se filtra el DataFrame resultante para el género específico\n",
    "    genre_df = df_joined[df_joined[genero] == 1]\n",
    "\n",
    "    # Se agrupa por usuario y año, sumamos las horas jugadas y se encuentra el usuario con más horas jugadas para el género dado\n",
    "    total_hours_by_user_and_year = genre_df.groupby(['user_id', 'year'])['playtime_forever'].sum()\n",
    "    max_user = total_hours_by_user_and_year.groupby('user_id').sum().idxmax()\n",
    "\n",
    "    # Se obtiene la lista de acumulación de horas jugadas por año para el usuario con más horas jugadas\n",
    "    max_user_hours_by_year = total_hours_by_user_and_year.loc[max_user].reset_index()\n",
    "    max_user_hours_list = [{\"Año\": int(row['year']), \"Horas\": row['playtime_forever']} for _, row in max_user_hours_by_year.iterrows()]\n",
    "\n",
    "    # Se retorna el resultado en un formato específico\n",
    "    result = {\"Usuario con más horas jugadas para Género {}\".format(genero): max_user, \"Horas jugadas\": max_user_hours_list}\n",
    "    return result"
   ]
  },
  {
   "cell_type": "code",
   "execution_count": 21,
   "metadata": {},
   "outputs": [
    {
     "name": "stdout",
     "output_type": "stream",
     "text": [
      "{'Usuario con más horas jugadas para Género Casual': 'REBAS_AS_F-T', 'Horas jugadas': [{'Año': 2001, 'Horas': 0.18}, {'Año': 2007, 'Horas': 7.1}, {'Año': 2008, 'Horas': 22.5}, {'Año': 2009, 'Horas': 124.79}, {'Año': 2010, 'Horas': 845.0699999999999}, {'Año': 2011, 'Horas': 691.41}, {'Año': 2012, 'Horas': 1278.84}, {'Año': 2013, 'Horas': 655.63}, {'Año': 2014, 'Horas': 1527.92}, {'Año': 2015, 'Horas': 4094.92}, {'Año': 2016, 'Horas': 5627.18}, {'Año': 2017, 'Horas': 38.67}]}\n"
     ]
    }
   ],
   "source": [
    "# Ejemplo de uso 1:\n",
    "genero_a_buscar = 'Casual'  \n",
    "resultado = UserForGenre(genero_a_buscar)\n",
    "print(resultado)"
   ]
  },
  {
   "cell_type": "code",
   "execution_count": 22,
   "metadata": {},
   "outputs": [
    {
     "name": "stdout",
     "output_type": "stream",
     "text": [
      "{'Usuario con más horas jugadas para Género Free to Play': 'REBAS_AS_F-T', 'Horas jugadas': [{'Año': 2009, 'Horas': 12.07}, {'Año': 2010, 'Horas': 0.05}, {'Año': 2011, 'Horas': 72.07}, {'Año': 2012, 'Horas': 281.65999999999997}, {'Año': 2013, 'Horas': 246.98000000000002}, {'Año': 2014, 'Horas': 116.67999999999999}, {'Año': 2015, 'Horas': 2120.36}, {'Año': 2016, 'Horas': 1697.0}, {'Año': 2017, 'Horas': 0.97}]}\n"
     ]
    }
   ],
   "source": [
    "# Ejemplo de uso 2:\n",
    "genero_a_buscar = 'Free to Play'  \n",
    "resultado = UserForGenre(genero_a_buscar)\n",
    "print(resultado)"
   ]
  },
  {
   "cell_type": "markdown",
   "metadata": {},
   "source": [
    "### Función best_developer_year\n",
    "Devuelve el top 3 de desarrolladores con juegos MÁS recomendados por usuarios para el año dado. (reviews.recommend = True y comentarios positivos)"
   ]
  },
  {
   "cell_type": "code",
   "execution_count": 23,
   "metadata": {},
   "outputs": [],
   "source": [
    "def best_developer_year(año:int):\n",
    "    # Se filtra el DataFrame resultante para el año específico\n",
    "    reduce_df = df_UserReviews[(df_UserReviews['year'] == año) & \n",
    "                               (df_UserReviews['recommend'] == True) & \n",
    "                               (df_UserReviews['sentiment_analysis'].isin([2]))]\n",
    "    \n",
    "    # Se hace un join entre df_UserReviews y df_steamgames utilizando 'item_id' como clave\n",
    "    merged_reviews = pd.merge(reduce_df, df_SteamGames[['item_id', 'name','developer']], on='item_id', how='left')\n",
    "   \n",
    "    # Se calcula la frecuencia de cada juego\n",
    "    game_count = merged_reviews['developer'].value_counts()\n",
    "\n",
    "    # Se selecciona el top 3 de juegos más recomendados, estos estan ordenados de mayor a menor por el value_counts\n",
    "    top_3_best_games = game_count.head(3)\n",
    "\n",
    "    # Se retorna el resultado en un formato específico\n",
    "    result = [{\"Puesto {}\".format(i+1): developer} for i, (developer, _) in enumerate(top_3_best_games.items())]\n",
    "    \n",
    "    return result\n"
   ]
  },
  {
   "cell_type": "code",
   "execution_count": 24,
   "metadata": {},
   "outputs": [
    {
     "name": "stdout",
     "output_type": "stream",
     "text": [
      "[{'Puesto 1': 'valve'}, {'Puesto 2': 'facepunch studios'}, {'Puesto 3': 'smartly dressed games'}]\n"
     ]
    }
   ],
   "source": [
    "# Ejemplo de uso 1:\n",
    "año = 2015\n",
    "resultado = best_developer_year(año)\n",
    "print(resultado)"
   ]
  },
  {
   "cell_type": "code",
   "execution_count": 25,
   "metadata": {},
   "outputs": [
    {
     "name": "stdout",
     "output_type": "stream",
     "text": [
      "[{'Puesto 1': 'valve'}, {'Puesto 2': 'facepunch studios'}, {'Puesto 3': 're-logic'}]\n"
     ]
    }
   ],
   "source": [
    "# Ejemplo de uso 2:\n",
    "año = 2013\n",
    "resultado = best_developer_year(año)\n",
    "print(resultado)"
   ]
  },
  {
   "cell_type": "markdown",
   "metadata": {},
   "source": [
    "### Función developer_reviews_analysis\n",
    "Devuelve un diccionario con el nombre del desarrollador como llave y una lista con la cantidad total de registros de reseñas de usuarios que se encuentren categorizados con un análisis de sentimiento como valor positivo o negativo. "
   ]
  },
  {
   "cell_type": "code",
   "execution_count": 26,
   "metadata": {},
   "outputs": [],
   "source": [
    "def developer_reviews_analysis(desarrolladora:str):\n",
    "    # Se hace un join entre df_UserReviews y df_games utilizando 'item_id' como clave\n",
    "    merged_reviews = pd.merge(df_UserReviews,df_SteamGames[['item_id','developer']], on='item_id', how='left')\n",
    "\n",
    "    # Se filtra el DataFrame de reseñas por la desarrolladora específica\n",
    "    reviews_by_developer = merged_reviews[merged_reviews['developer'] == desarrolladora.lower()]\n",
    "\n",
    "    # Se realiza el análisis de sentimiento\n",
    "    sentiment_counts = reviews_by_developer['sentiment_analysis'].value_counts()\n",
    "\n",
    "    # Se crea el diccionario de resultado\n",
    "    result = {desarrolladora: [\n",
    "        f'Negative = {sentiment_counts.get(0, 0)}',\n",
    "        f'Positive = {sentiment_counts.get(2, 0)}' \n",
    "    ]}\n",
    "    return result"
   ]
  },
  {
   "cell_type": "code",
   "execution_count": 29,
   "metadata": {},
   "outputs": [
    {
     "name": "stdout",
     "output_type": "stream",
     "text": [
      "{'Valve': ['Negative = 908', 'Positive = 4713']}\n"
     ]
    }
   ],
   "source": [
    "# Ejemplo de uso 1:\n",
    "desarrolladora = 'Valve'\n",
    "resultado = developer_reviews_analysis(desarrolladora)\n",
    "print(resultado)"
   ]
  },
  {
   "cell_type": "code",
   "execution_count": 28,
   "metadata": {},
   "outputs": [
    {
     "name": "stdout",
     "output_type": "stream",
     "text": [
      "{'Ubisoft': ['Negative = 32', 'Positive = 61']}\n"
     ]
    }
   ],
   "source": [
    "# Ejemplo de uso 2:\n",
    "desarrolladora = 'Ubisoft'\n",
    "resultado = developer_reviews_analysis(desarrolladora)\n",
    "print(resultado)"
   ]
  }
 ],
 "metadata": {
  "kernelspec": {
   "display_name": "PI1",
   "language": "python",
   "name": "python3"
  },
  "language_info": {
   "codemirror_mode": {
    "name": "ipython",
    "version": 3
   },
   "file_extension": ".py",
   "mimetype": "text/x-python",
   "name": "python",
   "nbconvert_exporter": "python",
   "pygments_lexer": "ipython3",
   "version": "3.11.5"
  }
 },
 "nbformat": 4,
 "nbformat_minor": 2
}
