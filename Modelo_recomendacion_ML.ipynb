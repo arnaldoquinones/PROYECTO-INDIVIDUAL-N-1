{
 "cells": [
  {
   "cell_type": "markdown",
   "metadata": {},
   "source": [
    "# MODELO MACHINE LEARNING DE RECOMENDACION"
   ]
  },
  {
   "cell_type": "markdown",
   "metadata": {},
   "source": [
    "#### Convoco librerias."
   ]
  },
  {
   "cell_type": "code",
   "execution_count": 36,
   "metadata": {},
   "outputs": [],
   "source": [
    "import pandas as pd\n",
    "from sklearn.metrics.pairwise        import cosine_similarity\n",
    "from sklearn.metrics.pairwise        import linear_kernel\n",
    "from sklearn.feature_extraction.text import TfidfVectorizer"
   ]
  },
  {
   "cell_type": "markdown",
   "metadata": {},
   "source": [
    "#### Cargo los dataframes que voy a usar."
   ]
  },
  {
   "cell_type": "code",
   "execution_count": 37,
   "metadata": {},
   "outputs": [],
   "source": [
    "path_games_csv = (r'D:\\Users\\Arnaldo\\Desktop\\SISTEMAS\\SOYHENRY\\CURSO\\PROYECTOS\\PROYECTO INDIVIDUAL I\\RECURSADO\\ARCHIVOS\\DATAFRAMES\\df_games.csv')\n",
    "df_games = pd.read_csv(path_games_csv)\n",
    "path_items_csv = (r'D:\\Users\\Arnaldo\\Desktop\\SISTEMAS\\SOYHENRY\\CURSO\\PROYECTOS\\PROYECTO INDIVIDUAL I\\RECURSADO\\ARCHIVOS\\DATAFRAMES\\df_items.csv')\n",
    "df_items = pd.read_csv(path_items_csv)\n",
    "path_reviews_csv = (r'D:\\Users\\Arnaldo\\Desktop\\SISTEMAS\\SOYHENRY\\CURSO\\PROYECTOS\\PROYECTO INDIVIDUAL I\\RECURSADO\\ARCHIVOS\\DATAFRAMES\\df_reviews.csv')\n",
    "df_reviews = pd.read_csv(path_reviews_csv)\n",
    "path_reviews_coments_csv = (r'D:\\Users\\Arnaldo\\Desktop\\SISTEMAS\\SOYHENRY\\CURSO\\PROYECTOS\\PROYECTO INDIVIDUAL I\\RECURSADO\\ARCHIVOS\\DATAFRAMES\\df_reviews_coments.csv')\n",
    "df_reviews_coments = pd.read_csv(path_reviews_coments_csv)"
   ]
  },
  {
   "cell_type": "code",
   "execution_count": 38,
   "metadata": {},
   "outputs": [],
   "source": [
    "# Se ccrea  un nuevo DataFrame llamado df_games_final que contiene solo las columnas relevantes\n",
    "game_columns = ['item_id', 'app_name']\n",
    "df_games_final = df_games[game_columns]\n",
    "\n",
    "# Se hace un join entre df_games y df_UserItems utilizando 'item_id' como clave\n",
    "df_joined = pd.merge(df_games_final, df_reviews_coments[['item_id', 'review']], on='item_id', how='inner')"
   ]
  },
  {
   "cell_type": "code",
   "execution_count": 39,
   "metadata": {},
   "outputs": [],
   "source": [
    "#Se crea una muestra para el modelo\n",
    "muestra = df_joined.head(20000)"
   ]
  },
  {
   "cell_type": "code",
   "execution_count": 40,
   "metadata": {},
   "outputs": [],
   "source": [
    "# Se crea el modelo de machine learning con Scikit-Learn\n",
    "tfidf = TfidfVectorizer(stop_words='english')\n",
    "muestra=muestra.fillna(\"\")\n",
    "\n",
    "tdfid_matrix = tfidf.fit_transform(muestra['review'])\n",
    "cosine_similarity = linear_kernel( tdfid_matrix, tdfid_matrix)"
   ]
  },
  {
   "cell_type": "markdown",
   "metadata": {},
   "source": [
    "### Función recomendacion_juego()\n",
    "Ingresando el id de producto (juego) recibiremos una lista con 5 juegos recomendados similares"
   ]
  },
  {
   "cell_type": "code",
   "execution_count": 41,
   "metadata": {},
   "outputs": [],
   "source": [
    "# Se crea la funcion de recomendación de 5 juegos recomendados para el juego ingresado.\n",
    "def recomendacion_juego(id: int):\n",
    "    if id not in muestra['item_id'].values:\n",
    "        return {'mensaje': 'No existe el id del juego'}\n",
    "    \n",
    "    titulo = muestra.loc[muestra['item_id'] == id, 'app_name'].iloc[0]\n",
    "    idx = muestra[muestra['app_name'] == titulo].index[0]\n",
    "    sim_cosine = list(enumerate(cosine_similarity[idx]))\n",
    "    sim_scores = sorted(sim_cosine, key=lambda x: x[1], reverse=True)\n",
    "    sim_ind = [i for i, _ in sim_scores[1:6]]\n",
    "    sim_juegos = muestra['app_name'].iloc[sim_ind].values.tolist()\n",
    "    return {f'juegos recomendados para {id}': list(sim_juegos)}"
   ]
  },
  {
   "cell_type": "code",
   "execution_count": 47,
   "metadata": {},
   "outputs": [
    {
     "name": "stdout",
     "output_type": "stream",
     "text": [
      "{'juegos recomendados para 2300': [\"Garry's Mod\", 'Undertale', \"Garry's Mod\", 'POSTAL 2', 'Ultimate Doom']}\n"
     ]
    }
   ],
   "source": [
    "# Ejemplo de uso del modelo 1 (2300 - DOOM II)\n",
    "print(recomendacion_juego(2300))"
   ]
  },
  {
   "cell_type": "code",
   "execution_count": 48,
   "metadata": {},
   "outputs": [
    {
     "name": "stdout",
     "output_type": "stream",
     "text": [
      "{'juegos recomendados para 21000': ['Toribash', 'Doom 3: BFG Edition', 'Portal 2', 'AdVenture Capitalist', 'Portal 2']}\n"
     ]
    }
   ],
   "source": [
    "# Ejemplo de uso del modelo 2 (21000 - LEGO Batman)\n",
    "print(recomendacion_juego(21000))"
   ]
  },
  {
   "cell_type": "code",
   "execution_count": 44,
   "metadata": {},
   "outputs": [
    {
     "data": {
      "text/html": [
       "<div>\n",
       "<style scoped>\n",
       "    .dataframe tbody tr th:only-of-type {\n",
       "        vertical-align: middle;\n",
       "    }\n",
       "\n",
       "    .dataframe tbody tr th {\n",
       "        vertical-align: top;\n",
       "    }\n",
       "\n",
       "    .dataframe thead th {\n",
       "        text-align: right;\n",
       "    }\n",
       "</style>\n",
       "<table border=\"1\" class=\"dataframe\">\n",
       "  <thead>\n",
       "    <tr style=\"text-align: right;\">\n",
       "      <th></th>\n",
       "      <th>item_id</th>\n",
       "      <th>app_name</th>\n",
       "      <th>review</th>\n",
       "    </tr>\n",
       "  </thead>\n",
       "  <tbody>\n",
       "    <tr>\n",
       "      <th>0</th>\n",
       "      <td>282010.0</td>\n",
       "      <td>Carmageddon Max Pack</td>\n",
       "      <td>oh where do i start dos</td>\n",
       "    </tr>\n",
       "    <tr>\n",
       "      <th>1</th>\n",
       "      <td>70.0</td>\n",
       "      <td>Half-Life</td>\n",
       "      <td>advertenciaeste anãlisis contiene posibles spo...</td>\n",
       "    </tr>\n",
       "    <tr>\n",
       "      <th>2</th>\n",
       "      <td>70.0</td>\n",
       "      <td>Half-Life</td>\n",
       "      <td>if you own any half life but not this one that...</td>\n",
       "    </tr>\n",
       "    <tr>\n",
       "      <th>3</th>\n",
       "      <td>70.0</td>\n",
       "      <td>Half-Life</td>\n",
       "      <td>this game has had me hooked for over 4 years a...</td>\n",
       "    </tr>\n",
       "    <tr>\n",
       "      <th>4</th>\n",
       "      <td>70.0</td>\n",
       "      <td>Half-Life</td>\n",
       "      <td>this is by far my most favourite game i have e...</td>\n",
       "    </tr>\n",
       "    <tr>\n",
       "      <th>...</th>\n",
       "      <td>...</td>\n",
       "      <td>...</td>\n",
       "      <td>...</td>\n",
       "    </tr>\n",
       "    <tr>\n",
       "      <th>19995</th>\n",
       "      <td>365590.0</td>\n",
       "      <td>Tom Clancy’s The Division™</td>\n",
       "      <td>played 10 mins oobisoft ded gg no re</td>\n",
       "    </tr>\n",
       "    <tr>\n",
       "      <th>19996</th>\n",
       "      <td>365590.0</td>\n",
       "      <td>Tom Clancy’s The Division™</td>\n",
       "      <td>the division is like eating the same food ever...</td>\n",
       "    </tr>\n",
       "    <tr>\n",
       "      <th>19997</th>\n",
       "      <td>365590.0</td>\n",
       "      <td>Tom Clancy’s The Division™</td>\n",
       "      <td>ëëì íì¹íëëë ì êµ ë²í íë ìì ëííµìì¼ëëë íµì ì ì ...</td>\n",
       "    </tr>\n",
       "    <tr>\n",
       "      <th>19998</th>\n",
       "      <td>365590.0</td>\n",
       "      <td>Tom Clancy’s The Division™</td>\n",
       "      <td>totally awesome new experience for openworld r...</td>\n",
       "    </tr>\n",
       "    <tr>\n",
       "      <th>19999</th>\n",
       "      <td>365590.0</td>\n",
       "      <td>Tom Clancy’s The Division™</td>\n",
       "      <td>likeatmospheric recordings npc conversations a...</td>\n",
       "    </tr>\n",
       "  </tbody>\n",
       "</table>\n",
       "<p>20000 rows × 3 columns</p>\n",
       "</div>"
      ],
      "text/plain": [
       "        item_id                    app_name  \\\n",
       "0      282010.0        Carmageddon Max Pack   \n",
       "1          70.0                   Half-Life   \n",
       "2          70.0                   Half-Life   \n",
       "3          70.0                   Half-Life   \n",
       "4          70.0                   Half-Life   \n",
       "...         ...                         ...   \n",
       "19995  365590.0  Tom Clancy’s The Division™   \n",
       "19996  365590.0  Tom Clancy’s The Division™   \n",
       "19997  365590.0  Tom Clancy’s The Division™   \n",
       "19998  365590.0  Tom Clancy’s The Division™   \n",
       "19999  365590.0  Tom Clancy’s The Division™   \n",
       "\n",
       "                                                  review  \n",
       "0                                oh where do i start dos  \n",
       "1      advertenciaeste anãlisis contiene posibles spo...  \n",
       "2      if you own any half life but not this one that...  \n",
       "3      this game has had me hooked for over 4 years a...  \n",
       "4      this is by far my most favourite game i have e...  \n",
       "...                                                  ...  \n",
       "19995               played 10 mins oobisoft ded gg no re  \n",
       "19996  the division is like eating the same food ever...  \n",
       "19997  ëëì íì¹íëëë ì êµ ë²í íë ìì ëííµìì¼ëëë íµì ì ì ...  \n",
       "19998  totally awesome new experience for openworld r...  \n",
       "19999  likeatmospheric recordings npc conversations a...  \n",
       "\n",
       "[20000 rows x 3 columns]"
      ]
     },
     "execution_count": 44,
     "metadata": {},
     "output_type": "execute_result"
    }
   ],
   "source": [
    "muestra"
   ]
  }
 ],
 "metadata": {
  "kernelspec": {
   "display_name": "PI1",
   "language": "python",
   "name": "python3"
  },
  "language_info": {
   "codemirror_mode": {
    "name": "ipython",
    "version": 3
   },
   "file_extension": ".py",
   "mimetype": "text/x-python",
   "name": "python",
   "nbconvert_exporter": "python",
   "pygments_lexer": "ipython3",
   "version": "3.11.5"
  }
 },
 "nbformat": 4,
 "nbformat_minor": 2
}
